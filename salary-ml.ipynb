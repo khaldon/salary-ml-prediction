{
 "cells": [
  {
   "cell_type": "code",
   "execution_count": null,
   "metadata": {},
   "outputs": [],
   "source": [
    "import pandas as pd\n",
    "from sklearn.preprocessing import OneHotEncoder,StandardScaler\n",
    "from sklearn.compose import ColumnTransformer\n",
    "from sklearn.pipeline import Pipeline\n",
    "from sklearn.linear_model import LinearRegression\n",
    "from sklearn.metrics import r2_score\n",
    "import joblib\n",
    "from sklearn.impute import SimpleImputer# from sklearn.experimental import enable_iterative_imputer\n"
   ]
  },
  {
   "cell_type": "code",
   "execution_count": 28,
   "metadata": {},
   "outputs": [],
   "source": [
    "def load_data(filePath): \n",
    "    df = pd.read_csv(filePath)\n",
    "    print(\"Data loaded successfully. Shape\", df.shape)\n",
    "    print(\"\\n Data preview:\")\n",
    "    print(df.head())\n",
    "    print(\"\\n Data missing\")\n",
    "    print(df.isnull().sum())\n",
    "    return df"
   ]
  },
  {
   "cell_type": "code",
   "execution_count": 29,
   "metadata": {},
   "outputs": [
    {
     "name": "stdout",
     "output_type": "stream",
     "text": [
      "Data loaded successfully. Shape (6704, 6)\n",
      "\n",
      " Data preview:\n",
      "    Age  Gender Education Level          Job Title  Years of Experience  \\\n",
      "0  32.0    Male      Bachelor's  Software Engineer                  5.0   \n",
      "1  28.0  Female        Master's       Data Analyst                  3.0   \n",
      "2  45.0    Male             PhD     Senior Manager                 15.0   \n",
      "3  36.0  Female      Bachelor's    Sales Associate                  7.0   \n",
      "4  52.0    Male        Master's           Director                 20.0   \n",
      "\n",
      "     Salary  \n",
      "0   90000.0  \n",
      "1   65000.0  \n",
      "2  150000.0  \n",
      "3   60000.0  \n",
      "4  200000.0  \n",
      "\n",
      " Data missing\n",
      "Age                    2\n",
      "Gender                 2\n",
      "Education Level        3\n",
      "Job Title              2\n",
      "Years of Experience    3\n",
      "Salary                 5\n",
      "dtype: int64\n"
     ]
    }
   ],
   "source": [
    "df = load_data('Salary_Data.csv')"
   ]
  },
  {
   "cell_type": "code",
   "execution_count": 30,
   "metadata": {},
   "outputs": [],
   "source": [
    "# def handle_missing_values(df): \n",
    "#     df['Age'] = df['Age'].fillna(df['Age'].mean())\n",
    "#     df['Years of Experience'] = df['Years of Experience'].fillna(df['Years of Experience'].mean())    \n",
    "#     df['Salary'] = df['Salary'].fillna(df['Salary'].mean())\n",
    "#     df['Gender'] = df['Gender'].fillna(df['Gender'].mode()[0])\n",
    "#     df['Education Level'] = df['Education Level'].fillna(df['Education Level'].mode()[0])\n",
    "#     df['Job Title'] = df['Job Title'].fillna(df['Job Title'].mode()[0])"
   ]
  },
  {
   "cell_type": "code",
   "execution_count": 31,
   "metadata": {},
   "outputs": [],
   "source": [
    "# d = handle_missing_values(df)"
   ]
  },
  {
   "cell_type": "code",
   "execution_count": 32,
   "metadata": {},
   "outputs": [],
   "source": [
    "# print(d)"
   ]
  },
  {
   "cell_type": "code",
   "execution_count": null,
   "metadata": {},
   "outputs": [],
   "source": []
  },
  {
   "cell_type": "code",
   "execution_count": 38,
   "metadata": {},
   "outputs": [],
   "source": [
    "from sklearn.model_selection import train_test_split\n",
    "\n",
    "\n",
    "def preprocessing_data(df, target_col='Salary'): \n",
    "\n",
    "\n",
    "    # Drop rows where target is missing (or impute if appropriate)\n",
    "    df = df.dropna(subset=[target_col])\n",
    "\n",
    "    # sparate features and target \n",
    "\n",
    "    X = df.drop(columns=[target_col])\n",
    "    y = df[target_col]\n",
    "\n",
    "    # create preprocessing pipline \n",
    "    preprocessor  = ColumnTransformer(\n",
    "        transformers=[\n",
    "             ('categorical', Pipeline([\n",
    "            ('imputer', SimpleImputer(strategy='constant', fill_value='Missing')),\n",
    "            ('encoder', OneHotEncoder(handle_unknown='ignore', sparse_output=False))\n",
    "        ]), ['Gender', 'Education Level', 'Job Title']),\n",
    "            # scale numerical features\n",
    "            ('mumerical', Pipeline([\n",
    "            ('imputer', SimpleImputer(strategy='median')), \n",
    "                ('scaler', StandardScaler())\n",
    "\n",
    "            ]), ['Age', 'Years of Experience'])\n",
    "\n",
    "])\n",
    "\n",
    "    # create pipeline \n",
    "    pipeline = Pipeline(steps=[\n",
    "        ('preprocessor', preprocessor),\n",
    "        ('regressor', LinearRegression())\n",
    "    ])\n",
    "    X_train, X_test, y_train, y_test = train_test_split(X, y, test_size=0.2, random_state=42)\n",
    "\n",
    "    # train the model\n",
    "    pipeline.fit(X_train, y_train)\n",
    "\n",
    "    # evaluate the model\n",
    "    train_pred = pipeline.predict(X_train)\n",
    "    test_pred = pipeline.predict(X_test)\n",
    "    \n",
    "    print(f\"Train R²: {r2_score(y_train, train_pred):.3f}\")\n",
    "    print(f\"Test R²: {r2_score(y_test, test_pred):.3f}\")\n",
    "\n",
    "    joblib.dump(pipeline, 'salary_model.pkl')\n"
   ]
  },
  {
   "cell_type": "code",
   "execution_count": 39,
   "metadata": {},
   "outputs": [
    {
     "name": "stdout",
     "output_type": "stream",
     "text": [
      "Train R²: 0.889\n",
      "Test R²: 0.878\n"
     ]
    }
   ],
   "source": [
    "preprocessing_data(df)"
   ]
  },
  {
   "cell_type": "code",
   "execution_count": null,
   "metadata": {},
   "outputs": [],
   "source": []
  }
 ],
 "metadata": {
  "kernelspec": {
   "display_name": "salary",
   "language": "python",
   "name": "python3"
  },
  "language_info": {
   "codemirror_mode": {
    "name": "ipython",
    "version": 3
   },
   "file_extension": ".py",
   "mimetype": "text/x-python",
   "name": "python",
   "nbconvert_exporter": "python",
   "pygments_lexer": "ipython3",
   "version": "3.12.3"
  }
 },
 "nbformat": 4,
 "nbformat_minor": 2
}
